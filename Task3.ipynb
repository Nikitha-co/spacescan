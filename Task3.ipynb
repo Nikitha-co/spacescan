{
  "nbformat": 4,
  "nbformat_minor": 0,
  "metadata": {
    "colab": {
      "provenance": [],
      "authorship_tag": "ABX9TyNu6qJQ//Dfef+3T0RRrAEe",
      "include_colab_link": true
    },
    "kernelspec": {
      "name": "python3",
      "display_name": "Python 3"
    },
    "language_info": {
      "name": "python"
    }
  },
  "cells": [
    {
      "cell_type": "markdown",
      "metadata": {
        "id": "view-in-github",
        "colab_type": "text"
      },
      "source": [
        "<a href=\"https://colab.research.google.com/github/Nikitha-co/spacescan/blob/main/Task3.ipynb\" target=\"_parent\"><img src=\"https://colab.research.google.com/assets/colab-badge.svg\" alt=\"Open In Colab\"/></a>"
      ]
    },
    {
      "cell_type": "code",
      "execution_count": 1,
      "metadata": {
        "id": "IpuERGUIIdKT"
      },
      "outputs": [],
      "source": [
        "import numpy as np\n",
        "import pandas as pd\n",
        "import seaborn as sns\n",
        "import matplotlib.pyplot as plt\n",
        "from sklearn.linear_model import LinearRegression\n",
        "from sklearn.model_selection import train_test_split\n",
        "from sklearn import metrics\n",
        "import statsmodels.api as sm\n",
        "import openpyxl"
      ]
    },
    {
      "cell_type": "code",
      "source": [
        "from google.colab import files\n",
        "files.upload()"
      ],
      "metadata": {
        "id": "QFIjBYrSI3Dw"
      },
      "execution_count": null,
      "outputs": []
    },
    {
      "cell_type": "code",
      "source": [
        "from google.colab import drive\n",
        "drive.mount('/content/drive')"
      ],
      "metadata": {
        "colab": {
          "base_uri": "https://localhost:8080/"
        },
        "id": "6HxCFOShPhAh",
        "outputId": "6c4dde9f-3b10-4bcb-c04e-08dd08411e81"
      },
      "execution_count": 10,
      "outputs": [
        {
          "output_type": "stream",
          "name": "stdout",
          "text": [
            "Mounted at /content/drive\n"
          ]
        }
      ]
    },
    {
      "cell_type": "code",
      "source": [
        "import chardet\n",
        "with open('/content/MostSubscribers.xlsx','rb') as f:\n",
        "  result = chardet.detect(f.read())\n",
        "  print(result['encoding'])"
      ],
      "metadata": {
        "colab": {
          "base_uri": "https://localhost:8080/"
        },
        "id": "lLgd0hXFrzyh",
        "outputId": "b9ce308d-65e4-421c-ca81-f6bcfc9611a0"
      },
      "execution_count": 15,
      "outputs": [
        {
          "output_type": "stream",
          "name": "stdout",
          "text": [
            "None\n"
          ]
        }
      ]
    },
    {
      "cell_type": "code",
      "source": [
        "acc = pd.read_excel('/content/MostSubscribers.xlsx')\n"
      ],
      "metadata": {
        "id": "cbpoU3GFs0oB"
      },
      "execution_count": 18,
      "outputs": []
    },
    {
      "cell_type": "code",
      "source": [
        "acc.shape\n"
      ],
      "metadata": {
        "colab": {
          "base_uri": "https://localhost:8080/"
        },
        "id": "dxTeRK79tEx0",
        "outputId": "44f28662-d2d1-4c5f-e8d1-99d2422fdd56"
      },
      "execution_count": 19,
      "outputs": [
        {
          "output_type": "execute_result",
          "data": {
            "text/plain": [
              "(50, 6)"
            ]
          },
          "metadata": {},
          "execution_count": 19
        }
      ]
    },
    {
      "cell_type": "code",
      "source": [
        "acc.head()\n"
      ],
      "metadata": {
        "id": "kGbdS9JWtMp-"
      },
      "execution_count": null,
      "outputs": []
    },
    {
      "cell_type": "code",
      "source": [
        "#transform target\n",
        "acc['Subscribers(millions)'] = acc['Subscribers(millions)'].astype(int)\n",
        "acc.head()\n"
      ],
      "metadata": {
        "id": "CG44RpKCtOsK"
      },
      "execution_count": null,
      "outputs": []
    },
    {
      "cell_type": "code",
      "source": [
        "acc.describe()\n"
      ],
      "metadata": {
        "id": "8Lr8uVyXtTb1"
      },
      "execution_count": null,
      "outputs": []
    },
    {
      "cell_type": "code",
      "source": [
        "acc.info()\n"
      ],
      "metadata": {
        "id": "7qkHHhVNtWsu"
      },
      "execution_count": null,
      "outputs": []
    },
    {
      "cell_type": "code",
      "source": [
        "#heatmap correlation\n",
        "plt.figure(figsize = (12,9))\n",
        "sns.heatmap(acc.corr(), annot = True, cmap = 'OrRd')\n",
        "plt.title(\"Pearson Correlation\")\n",
        "plt.show()"
      ],
      "metadata": {
        "id": "22d74pZEtaA6"
      },
      "execution_count": null,
      "outputs": []
    },
    {
      "cell_type": "code",
      "source": [
        "#handling categorical data\n",
        "df = pd.get_dummies(acc, drop_first = True)\n",
        "df.head()"
      ],
      "metadata": {
        "id": "_hnSkR_8td9N"
      },
      "execution_count": null,
      "outputs": []
    },
    {
      "cell_type": "code",
      "source": [
        "#split data\n",
        "X = df.drop('Subscribers(millions)', axis = 1)\n",
        "y = df['Subscribers(millions)']\n",
        "X_train, X_test, y_train, y_test = train_test_split(X, y, test_size = 0.3, random_state = 0)\n",
        "print(X_train.shape)\n",
        "print(y_train.shape)\n",
        "print(X_test.shape)\n",
        "print(y_test.shape)"
      ],
      "metadata": {
        "id": "ckWHGLORthV-"
      },
      "execution_count": null,
      "outputs": []
    },
    {
      "cell_type": "code",
      "source": [
        "#linear regression model\n",
        "lr = LinearRegression()\n",
        "%time lr.fit(X_train, y_train)"
      ],
      "metadata": {
        "id": "szGNOoa5tlZQ"
      },
      "execution_count": null,
      "outputs": []
    },
    {
      "cell_type": "code",
      "source": [
        "#prediction\n",
        "y_pred = lr.predict(X_test)\n",
        "print(y_pred)"
      ],
      "metadata": {
        "id": "EQ2ooIsAtowM"
      },
      "execution_count": null,
      "outputs": []
    },
    {
      "cell_type": "code",
      "source": [
        "#result\n",
        "prediction = pd.DataFrame({'Actual' : y_test, 'Predicted' : y_pred})\n",
        "prediction.head()"
      ],
      "metadata": {
        "id": "LGTv6XcktryN"
      },
      "execution_count": null,
      "outputs": []
    },
    {
      "cell_type": "code",
      "source": [
        "#check MAE\n",
        "print('Mean Absolute Error : ', metrics.mean_absolute_error(y_test, y_pred).round(2))"
      ],
      "metadata": {
        "colab": {
          "base_uri": "https://localhost:8080/"
        },
        "id": "oI72k-iitu2C",
        "outputId": "c24873db-decd-434d-83a2-9a54ca716a7d"
      },
      "execution_count": 30,
      "outputs": [
        {
          "output_type": "stream",
          "name": "stdout",
          "text": [
            "Mean Absolute Error :  10.71\n"
          ]
        }
      ]
    },
    {
      "cell_type": "code",
      "source": [
        "#check MSE\n",
        "print('Mean Squared Error : ', metrics.mean_squared_error(y_test, y_pred).round(2))"
      ],
      "metadata": {
        "colab": {
          "base_uri": "https://localhost:8080/"
        },
        "id": "X7ZRrMIOtygZ",
        "outputId": "3b05c535-c0be-4381-d9f3-318c33e0bc38"
      },
      "execution_count": 33,
      "outputs": [
        {
          "output_type": "stream",
          "name": "stdout",
          "text": [
            "Mean Squared Error :  149.49\n"
          ]
        }
      ]
    },
    {
      "cell_type": "code",
      "source": [
        "#check RMSE\n",
        "print('Root Mean Squared Error : ', np.sqrt(metrics.mean_absolute_error(y_test, y_pred).round(2)))"
      ],
      "metadata": {
        "colab": {
          "base_uri": "https://localhost:8080/"
        },
        "id": "zrGR5cwkt_kA",
        "outputId": "def0516a-dd7e-473c-c895-e31338a38199"
      },
      "execution_count": 34,
      "outputs": [
        {
          "output_type": "stream",
          "name": "stdout",
          "text": [
            "Root Mean Squared Error :  3.2726136343907144\n"
          ]
        }
      ]
    },
    {
      "cell_type": "code",
      "source": [
        "#check R squared\n",
        "print('R Squared : ', metrics.r2_score(y_test, y_pred))"
      ],
      "metadata": {
        "colab": {
          "base_uri": "https://localhost:8080/"
        },
        "id": "VEbn_K5euDOb",
        "outputId": "5e8ae7a0-69f4-4c39-bd84-593394364642"
      },
      "execution_count": 35,
      "outputs": [
        {
          "output_type": "stream",
          "name": "stdout",
          "text": [
            "R Squared :  0.5968778230642398\n"
          ]
        }
      ]
    },
    {
      "cell_type": "code",
      "source": [
        "#visualize model\n",
        "x = y_test\n",
        "y = y_pred\n",
        "\n",
        "plt.figure(figsize = (10,6))\n",
        "plt.title(\"Linear Regression Plot Model\")\n",
        "plt.plot(x, y, 'o')\n",
        "\n",
        "m, b = np.polyfit(x, y, 1)\n",
        "plt.plot(x, m * x + b)"
      ],
      "metadata": {
        "id": "_gI5-ahLuGNm"
      },
      "execution_count": null,
      "outputs": []
    },
    {
      "cell_type": "code",
      "source": [
        "#distribution\n",
        "plt.figure(figsize = (10,6))\n",
        "sns.distplot(df['Subscribers(millions)'])\n",
        "plt.title(\"Distribution of Subscriber\")\n",
        "plt.show()"
      ],
      "metadata": {
        "id": "w6nbyEy2uKIS"
      },
      "execution_count": null,
      "outputs": []
    },
    {
      "cell_type": "code",
      "source": [
        "#defining feature\n",
        "coef = pd.Series(lr.coef_, index = X.columns)\n",
        "\n",
        "imp_coef = pd.concat([coef.sort_values().head(10),\n",
        "                     coef.sort_values().tail(10)])"
      ],
      "metadata": {
        "id": "UsF-dWTeuSZA"
      },
      "execution_count": 38,
      "outputs": []
    },
    {
      "cell_type": "code",
      "source": [
        "#visualize feature\n",
        "plt.figure(figsize = (10,6))\n",
        "imp_coef.plot(kind = 'barh')\n",
        "plt.title(\"Feature Importance\")\n",
        "plt.xlabel('Score')\n",
        "plt.ylabel('Features')\n",
        "plt.show()"
      ],
      "metadata": {
        "id": "YXjxuqFPuWhw"
      },
      "execution_count": null,
      "outputs": []
    },
    {
      "cell_type": "code",
      "source": [
        "plt.figure(figsize = (10,6))\n",
        "chart = sns.countplot(data = acc, x = 'Country', palette = 'Set1')\n",
        "chart.set_xticklabels(chart.get_xticklabels(), rotation = 45)\n",
        "plt.title(\"Country\")\n",
        "plt.show()"
      ],
      "metadata": {
        "id": "EQwI-sJNubFo"
      },
      "execution_count": null,
      "outputs": []
    },
    {
      "cell_type": "code",
      "source": [
        "plt.figure(figsize = (10,6))\n",
        "chart = sns.countplot(data = acc, x = 'Language', palette = 'Set1')\n",
        "chart.set_xticklabels(chart.get_xticklabels(), rotation = 45)\n",
        "plt.title(\"Language\")\n",
        "plt.show()"
      ],
      "metadata": {
        "id": "9NVn2O6RuhJu"
      },
      "execution_count": null,
      "outputs": []
    },
    {
      "cell_type": "code",
      "source": [
        "plt.figure(figsize = (10,6))\n",
        "chart = sns.countplot(data = acc, x = 'Category', palette = 'Set1')\n",
        "chart.set_xticklabels(chart.get_xticklabels(), rotation = 45)\n",
        "plt.title(\"Category\")\n",
        "plt.show()"
      ],
      "metadata": {
        "id": "J_wGOyNaujZx"
      },
      "execution_count": null,
      "outputs": []
    },
    {
      "cell_type": "code",
      "source": [
        "lr = LinearRegression()\n",
        "lr.fit(X_train, y_train)\n",
        "model = sm.OLS(lr.predict(X_train), X_train)\n",
        "print(model.fit().summary())"
      ],
      "metadata": {
        "id": "tb1b1pqAupfT"
      },
      "execution_count": null,
      "outputs": []
    },
    {
      "cell_type": "code",
      "source": [],
      "metadata": {
        "id": "I1boQub2urfp"
      },
      "execution_count": null,
      "outputs": []
    }
  ]
}